{
 "cells": [
  {
   "cell_type": "code",
   "execution_count": 1,
   "id": "8f35f80a-e9c1-4dea-a033-3f8428369146",
   "metadata": {},
   "outputs": [],
   "source": [
    "import warnings\n",
    "\n",
    "import torch\n",
    "from tqdm import tqdm\n",
    "\n",
    "from config import get_config, get_weights_file_path\n",
    "from dataset import get_ds\n",
    "from model import get_tokenizer, get_model\n",
    "\n",
    "warnings.filterwarnings('ignore')\n",
    "device= 'cuda' if torch.cuda.is_available() else 'cpu'"
   ]
  },
  {
   "cell_type": "code",
   "execution_count": 2,
   "id": "03ecc797-d9ca-4ffa-9e4e-6eb79b532486",
   "metadata": {},
   "outputs": [],
   "source": [
    "def test(config, model):\n",
    "    test_dataloader = get_ds(config, tokenizer, 'test')\n",
    "    epoch_loss = 0\n",
    "    batch_iterator = tqdm(test_dataloader, desc='Test epoch')\n",
    "    model.eval()\n",
    "    \n",
    "    for batch in batch_iterator:\n",
    "        input_tokens = batch['input_tokens'].to(device)\n",
    "        mask = batch['mask'].to(device)\n",
    "    \n",
    "        with torch.no_grad():\n",
    "            output = model(input_tokens, attention_mask=mask, labels=input_tokens)\n",
    "            loss = output.loss\n",
    "        epoch_loss+= loss.item()\n",
    "        batch_iterator.set_postfix({'Test_loss': f'{loss.item():6.3f}'})\n",
    "    \n",
    "    mean_loss = epoch_loss / len(batch_iterator)\n",
    "    perplexity = torch.exp(torch.tensor(mean_loss))\n",
    "    \n",
    "    batch_iterator.write(f'TEST LOSS: {mean_loss}')\n",
    "    batch_iterator.write(f'PERPLEXITY: {perplexity}')\n",
    "    return perplexity\n",
    "    "
   ]
  },
  {
   "cell_type": "code",
   "execution_count": 3,
   "id": "b67dedf0-e3f2-4420-b467-e180d37ecb61",
   "metadata": {},
   "outputs": [],
   "source": [
    "models = {'baseline': None,\n",
    "            'full': 'gpt_no_lora_07.pt',\n",
    "            'lora_1': 'gpt_lora_no_proj_07.pt',\n",
    "            'lora_2': 'gpt_lora_no_ff_07.pt',\n",
    "            'lora_3': 'gpt_lora_no_output_06.pt',\n",
    "            'lora_4': 'gpt_lora_04.pt',\n",
    "         }"
   ]
  },
  {
   "cell_type": "code",
   "execution_count": 4,
   "id": "7819408c-95d7-43d8-aab0-8e6cb7aee751",
   "metadata": {
    "scrolled": true
   },
   "outputs": [
    {
     "name": "stdout",
     "output_type": "stream",
     "text": [
      "Making predictions for baseline model\n"
     ]
    },
    {
     "name": "stderr",
     "output_type": "stream",
     "text": [
      "Test epoch: 100%|████████████████████████████████████████████████████| 207/207 [00:52<00:00,  3.97it/s, Test_loss=6.797]\n"
     ]
    },
    {
     "name": "stdout",
     "output_type": "stream",
     "text": [
      "TEST LOSS: 5.327636755606979\n",
      "PERPLEXITY: 205.95068359375\n"
     ]
    },
    {
     "name": "stderr",
     "output_type": "stream",
     "text": [
      "Test epoch: 100%|████████████████████████████████████████████████████| 369/369 [01:32<00:00,  3.99it/s, Test_loss=7.213]\n"
     ]
    },
    {
     "name": "stdout",
     "output_type": "stream",
     "text": [
      "TEST LOSS: 7.026108217110155\n",
      "PERPLEXITY: 1125.641357421875\n"
     ]
    },
    {
     "name": "stderr",
     "output_type": "stream",
     "text": [
      "Test epoch:   0%|▏                                                    | 8/1786 [00:02<07:43,  3.84it/s, Test_loss=5.622]Token indices sequence length is longer than the specified maximum sequence length for this model (1300 > 1024). Running this sequence through the model will result in indexing errors\n",
      "Test epoch: 100%|██████████████████████████████████████████████████| 1786/1786 [07:54<00:00,  3.76it/s, Test_loss=5.931]\n"
     ]
    },
    {
     "name": "stdout",
     "output_type": "stream",
     "text": [
      "TEST LOSS: 5.714285751740049\n",
      "PERPLEXITY: 303.1676330566406\n",
      "=========================================================\n",
      "Making predictions for full model\n"
     ]
    },
    {
     "name": "stderr",
     "output_type": "stream",
     "text": [
      "Test epoch: 100%|████████████████████████████████████████████████████| 207/207 [00:52<00:00,  3.94it/s, Test_loss=0.859]\n"
     ]
    },
    {
     "name": "stdout",
     "output_type": "stream",
     "text": [
      "TEST LOSS: 0.9056965089830511\n",
      "PERPLEXITY: 2.473654270172119\n"
     ]
    },
    {
     "name": "stderr",
     "output_type": "stream",
     "text": [
      "Test epoch: 100%|████████████████████████████████████████████████████| 369/369 [01:32<00:00,  3.99it/s, Test_loss=1.247]\n"
     ]
    },
    {
     "name": "stdout",
     "output_type": "stream",
     "text": [
      "TEST LOSS: 1.1742488814563286\n",
      "PERPLEXITY: 3.2357118129730225\n"
     ]
    },
    {
     "name": "stderr",
     "output_type": "stream",
     "text": [
      "Test epoch:   0%|▏                                                    | 8/1786 [00:02<07:29,  3.95it/s, Test_loss=2.753]Token indices sequence length is longer than the specified maximum sequence length for this model (1300 > 1024). Running this sequence through the model will result in indexing errors\n",
      "Test epoch: 100%|██████████████████████████████████████████████████| 1786/1786 [07:29<00:00,  3.97it/s, Test_loss=3.315]\n"
     ]
    },
    {
     "name": "stdout",
     "output_type": "stream",
     "text": [
      "TEST LOSS: 2.9820067673621224\n",
      "PERPLEXITY: 19.727365493774414\n",
      "=========================================================\n",
      "Making predictions for lora_1 model\n"
     ]
    },
    {
     "name": "stderr",
     "output_type": "stream",
     "text": [
      "Test epoch: 100%|████████████████████████████████████████████████████| 207/207 [00:53<00:00,  3.86it/s, Test_loss=0.864]\n"
     ]
    },
    {
     "name": "stdout",
     "output_type": "stream",
     "text": [
      "TEST LOSS: 0.9249808668442394\n",
      "PERPLEXITY: 2.521820068359375\n"
     ]
    },
    {
     "name": "stderr",
     "output_type": "stream",
     "text": [
      "Test epoch: 100%|████████████████████████████████████████████████████| 369/369 [01:34<00:00,  3.90it/s, Test_loss=1.612]\n"
     ]
    },
    {
     "name": "stdout",
     "output_type": "stream",
     "text": [
      "TEST LOSS: 1.731662882052786\n",
      "PERPLEXITY: 5.650041580200195\n"
     ]
    },
    {
     "name": "stderr",
     "output_type": "stream",
     "text": [
      "Test epoch:   0%|▏                                                    | 8/1786 [00:02<07:50,  3.78it/s, Test_loss=4.641]Token indices sequence length is longer than the specified maximum sequence length for this model (1300 > 1024). Running this sequence through the model will result in indexing errors\n",
      "Test epoch: 100%|██████████████████████████████████████████████████| 1786/1786 [07:54<00:00,  3.77it/s, Test_loss=4.407]\n"
     ]
    },
    {
     "name": "stdout",
     "output_type": "stream",
     "text": [
      "TEST LOSS: 4.558662382111971\n",
      "PERPLEXITY: 95.4557113647461\n",
      "=========================================================\n",
      "Making predictions for lora_2 model\n"
     ]
    },
    {
     "name": "stderr",
     "output_type": "stream",
     "text": [
      "Test epoch: 100%|████████████████████████████████████████████████████| 207/207 [00:56<00:00,  3.66it/s, Test_loss=0.853]\n"
     ]
    },
    {
     "name": "stdout",
     "output_type": "stream",
     "text": [
      "TEST LOSS: 0.9058684850300568\n",
      "PERPLEXITY: 2.4740796089172363\n"
     ]
    },
    {
     "name": "stderr",
     "output_type": "stream",
     "text": [
      "Test epoch: 100%|████████████████████████████████████████████████████| 369/369 [01:41<00:00,  3.62it/s, Test_loss=1.299]\n"
     ]
    },
    {
     "name": "stdout",
     "output_type": "stream",
     "text": [
      "TEST LOSS: 1.1962203530438225\n",
      "PERPLEXITY: 3.3075919151306152\n"
     ]
    },
    {
     "name": "stderr",
     "output_type": "stream",
     "text": [
      "Test epoch:   0%|▏                                                    | 8/1786 [00:02<08:37,  3.43it/s, Test_loss=2.706]Token indices sequence length is longer than the specified maximum sequence length for this model (1300 > 1024). Running this sequence through the model will result in indexing errors\n",
      "Test epoch: 100%|██████████████████████████████████████████████████| 1786/1786 [08:15<00:00,  3.60it/s, Test_loss=3.222]\n"
     ]
    },
    {
     "name": "stdout",
     "output_type": "stream",
     "text": [
      "TEST LOSS: 2.9284559842720546\n",
      "PERPLEXITY: 18.69873809814453\n",
      "=========================================================\n",
      "Making predictions for lora_3 model\n"
     ]
    },
    {
     "name": "stderr",
     "output_type": "stream",
     "text": [
      "Test epoch: 100%|████████████████████████████████████████████████████| 207/207 [00:59<00:00,  3.47it/s, Test_loss=0.859]\n"
     ]
    },
    {
     "name": "stdout",
     "output_type": "stream",
     "text": [
      "TEST LOSS: 0.9048694104568106\n",
      "PERPLEXITY: 2.471609115600586\n"
     ]
    },
    {
     "name": "stderr",
     "output_type": "stream",
     "text": [
      "Test epoch: 100%|████████████████████████████████████████████████████| 369/369 [01:43<00:00,  3.57it/s, Test_loss=1.240]\n"
     ]
    },
    {
     "name": "stdout",
     "output_type": "stream",
     "text": [
      "TEST LOSS: 1.1720497753561996\n",
      "PERPLEXITY: 3.2286036014556885\n"
     ]
    },
    {
     "name": "stderr",
     "output_type": "stream",
     "text": [
      "Test epoch:   0%|▏                                                    | 8/1786 [00:02<08:44,  3.39it/s, Test_loss=2.718]Token indices sequence length is longer than the specified maximum sequence length for this model (1300 > 1024). Running this sequence through the model will result in indexing errors\n",
      "Test epoch: 100%|██████████████████████████████████████████████████| 1786/1786 [08:29<00:00,  3.50it/s, Test_loss=3.244]\n"
     ]
    },
    {
     "name": "stdout",
     "output_type": "stream",
     "text": [
      "TEST LOSS: 2.9440948541994727\n",
      "PERPLEXITY: 18.99346351623535\n",
      "=========================================================\n",
      "Making predictions for lora_4 model\n"
     ]
    },
    {
     "name": "stderr",
     "output_type": "stream",
     "text": [
      "Test epoch: 100%|████████████████████████████████████████████████████| 207/207 [01:02<00:00,  3.31it/s, Test_loss=0.860]\n"
     ]
    },
    {
     "name": "stdout",
     "output_type": "stream",
     "text": [
      "TEST LOSS: 0.9122637098178196\n",
      "PERPLEXITY: 2.489952564239502\n"
     ]
    },
    {
     "name": "stderr",
     "output_type": "stream",
     "text": [
      "Test epoch: 100%|████████████████████████████████████████████████████| 369/369 [01:50<00:00,  3.33it/s, Test_loss=1.291]\n"
     ]
    },
    {
     "name": "stdout",
     "output_type": "stream",
     "text": [
      "TEST LOSS: 1.1957918024321559\n",
      "PERPLEXITY: 3.3061747550964355\n"
     ]
    },
    {
     "name": "stderr",
     "output_type": "stream",
     "text": [
      "Test epoch:   0%|▏                                                    | 8/1786 [00:02<09:08,  3.24it/s, Test_loss=2.782]Token indices sequence length is longer than the specified maximum sequence length for this model (1300 > 1024). Running this sequence through the model will result in indexing errors\n",
      "Test epoch: 100%|██████████████████████████████████████████████████| 1786/1786 [09:08<00:00,  3.26it/s, Test_loss=3.290]"
     ]
    },
    {
     "name": "stdout",
     "output_type": "stream",
     "text": [
      "TEST LOSS: 2.982417516251828\n",
      "PERPLEXITY: 19.735471725463867\n",
      "=========================================================\n"
     ]
    },
    {
     "name": "stderr",
     "output_type": "stream",
     "text": [
      "\n"
     ]
    }
   ],
   "source": [
    "ppl_wikitext = []\n",
    "ppl_lambada = []\n",
    "ppl_imdb = []\n",
    "\n",
    "for m in list(models.keys()):  \n",
    "    print(f'Making predictions for {m} model')\n",
    "    \n",
    "    if m in ['baseline', 'full']:\n",
    "        config = get_config()\n",
    "    else:\n",
    "        config = get_config(True)\n",
    "        if m == 'lora_1':\n",
    "            config[\"target_modules\"] = ['attention']\n",
    "        elif m == 'lora_2':\n",
    "            config[\"target_modules\"] = ['attention', 'projection']\n",
    "        elif m == 'lora_3':\n",
    "            config[\"target_modules\"] = ['attention', 'projection', 'feed_forward']\n",
    "        elif m == 'lora_4':\n",
    "            config[\"target_modules\"] = ['attention', 'projection', 'feed_forward', 'output']\n",
    "    \n",
    "    model = get_model(config).to(device)\n",
    "\n",
    "    if m != 'baseline':\n",
    "        model_filename = f'{config[\"model_folder\"]}/{models[m]}'\n",
    "        state = torch.load(model_filename, map_location=device)\n",
    "        model.load_state_dict(state['model_state_dict'])\n",
    "\n",
    "    tokenizer = get_tokenizer(config)\n",
    "\n",
    "\n",
    "    ppl_wikitext.append(test(config, model))\n",
    "\n",
    "    config[\"dataset\"] = \"EleutherAI/lambada_openai\"\n",
    "    config['subset'] = \"en\"\n",
    "    \n",
    "    ppl_lambada.append(test(config, model))\n",
    "\n",
    "    config[\"dataset\"] = \"stanfordnlp/imdb\"\n",
    "\n",
    "    ppl_imdb.append(test(config, model))\n",
    "    print('=========================================================')\n",
    "    "
   ]
  },
  {
   "cell_type": "code",
   "execution_count": 46,
   "id": "72cb8069-951d-497c-9e4d-4a1d3ed7e5b6",
   "metadata": {},
   "outputs": [],
   "source": [
    "wikitext_results = {}\n",
    "for idx, name in enumerate(list(models.keys())):\n",
    "    wikitext_results[name] = round(ppl_wikitext[idx].item(), ndigits=3)\n",
    "\n",
    "lambada_results = {}\n",
    "for idx, name in enumerate(list(models.keys())):\n",
    "    lambada_results[name] = round(ppl_lambada[idx].item(), ndigits=3)\n",
    "\n",
    "imdb_results = {}\n",
    "for idx, name in enumerate(list(models.keys())):\n",
    "    imdb_results[name] = round(ppl_imdb[idx].item(), ndigits=3)"
   ]
  },
  {
   "cell_type": "code",
   "execution_count": 47,
   "id": "584f83d4-6a4f-4391-85b5-7109b5c5c83b",
   "metadata": {},
   "outputs": [
    {
     "data": {
      "text/plain": [
       "({'baseline': 205.951,\n",
       "  'full': 2.474,\n",
       "  'lora_1': 2.522,\n",
       "  'lora_2': 2.474,\n",
       "  'lora_3': 2.472,\n",
       "  'lora_4': 2.49},\n",
       " 2.472)"
      ]
     },
     "execution_count": 47,
     "metadata": {},
     "output_type": "execute_result"
    }
   ],
   "source": [
    "wikitext_results, min(list(wikitext_results.values()))"
   ]
  },
  {
   "cell_type": "code",
   "execution_count": 48,
   "id": "54b84d68-b5df-4091-af4c-2906ad440b51",
   "metadata": {},
   "outputs": [
    {
     "data": {
      "text/plain": [
       "({'baseline': 1125.641,\n",
       "  'full': 3.236,\n",
       "  'lora_1': 5.65,\n",
       "  'lora_2': 3.308,\n",
       "  'lora_3': 3.229,\n",
       "  'lora_4': 3.306},\n",
       " 3.229)"
      ]
     },
     "execution_count": 48,
     "metadata": {},
     "output_type": "execute_result"
    }
   ],
   "source": [
    "lambada_results, min(list(lambada_results.values()))"
   ]
  },
  {
   "cell_type": "code",
   "execution_count": 49,
   "id": "5fc9df26-8d0d-4cdc-bae3-5921ad4b26bf",
   "metadata": {},
   "outputs": [
    {
     "data": {
      "text/plain": [
       "({'baseline': 303.168,\n",
       "  'full': 19.727,\n",
       "  'lora_1': 95.456,\n",
       "  'lora_2': 18.699,\n",
       "  'lora_3': 18.993,\n",
       "  'lora_4': 19.735},\n",
       " 18.699)"
      ]
     },
     "execution_count": 49,
     "metadata": {},
     "output_type": "execute_result"
    }
   ],
   "source": [
    "imdb_results, min(list(imdb_results.values()))"
   ]
  }
 ],
 "metadata": {
  "kernelspec": {
   "display_name": "Python 3 (ipykernel)",
   "language": "python",
   "name": "python3"
  },
  "language_info": {
   "codemirror_mode": {
    "name": "ipython",
    "version": 3
   },
   "file_extension": ".py",
   "mimetype": "text/x-python",
   "name": "python",
   "nbconvert_exporter": "python",
   "pygments_lexer": "ipython3",
   "version": "3.12.4"
  }
 },
 "nbformat": 4,
 "nbformat_minor": 5
}
